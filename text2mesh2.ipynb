{
  "nbformat": 4,
  "nbformat_minor": 0,
  "metadata": {
    "colab": {
      "name": "text2mesh2.ipynb",
      "provenance": [],
      "collapsed_sections": [],
      "machine_shape": "hm",
      "include_colab_link": true
    },
    "kernelspec": {
      "name": "python3",
      "display_name": "Python 3"
    },
    "language_info": {
      "name": "python"
    },
    "accelerator": "GPU"
  },
  "cells": [
    {
      "cell_type": "markdown",
      "metadata": {
        "id": "view-in-github",
        "colab_type": "text"
      },
      "source": [
        "<a href=\"https://colab.research.google.com/github/FlamesLLC/AUTO/blob/main/text2mesh2.ipynb\" target=\"_parent\"><img src=\"https://colab.research.google.com/assets/colab-badge.svg\" alt=\"Open In Colab\"/></a>"
      ]
    },
    {
      "cell_type": "code",
      "metadata": {
        "id": "TkUfzT60ZZ9q"
      },
      "source": [
        "!sudo apt-get update\n",
        "!nvidia-smi\n",
        "!which python # should return /usr/local/bin/python\n",
        "!python --version\n",
        "!echo $PYTHONPATH\n",
        "%env PYTHONPATH=\n",
        "#use above to unset path if warnings persist"
      ],
      "execution_count": null,
      "outputs": []
    },
    {
      "cell_type": "code",
      "source": [
        "%%bash\n",
        "MINICONDA_INSTALLER_SCRIPT=Miniconda3-4.5.4-Linux-x86_64.sh\n",
        "MINICONDA_PREFIX=/usr/local\n",
        "wget https://repo.continuum.io/miniconda/$MINICONDA_INSTALLER_SCRIPT\n",
        "chmod +x $MINICONDA_INSTALLER_SCRIPT\n",
        "./$MINICONDA_INSTALLER_SCRIPT -b -f -p $MINICONDA_PREFIX\n",
        "!conda init bash\n",
        "!which conda # should return /usr/local/bin/conda\n",
        "!conda --version # should return 4.5.4"
      ],
      "metadata": {
        "id": "6vuQn1uaSp-M"
      },
      "execution_count": null,
      "outputs": []
    },
    {
      "cell_type": "code",
      "source": [
        "!wget https://repo.anaconda.com/archive/Anaconda3-2020.02-Linux-x86_64.sh\n",
        "!bash Anaconda3-2020.02-Linux-x86_64.sh"
      ],
      "metadata": {
        "id": "w8MJ42uhJ2hb"
      },
      "execution_count": null,
      "outputs": []
    },
    {
      "cell_type": "code",
      "source": [
        "%%bash\n",
        "conda install --channel defaults conda python=3.7 --yes\n",
        "conda update --channel defaults --all --yes\n"
      ],
      "metadata": {
        "id": "iJO-oJATSszs"
      },
      "execution_count": null,
      "outputs": []
    },
    {
      "cell_type": "code",
      "execution_count": null,
      "metadata": {
        "id": "Tnu8XfB0RRsJ"
      },
      "outputs": [],
      "source": [
        "!git clone https://github.com/threedle/text2mesh.git\n",
        "!git clone https://github.com/openai/CLIP\n",
        "\n"
      ]
    },
    {
      "cell_type": "code",
      "source": [
        "!conda env create --file text2mesh/text2mesh.yml\n",
        "!conda activate text2mesh\n"
      ],
      "metadata": {
        "id": "hJeU-VLhYUJo"
      },
      "execution_count": null,
      "outputs": []
    },
    {
      "cell_type": "code",
      "source": [
        "!conda init bash\n"
      ],
      "metadata": {
        "id": "neD8sJwibo7Q"
      },
      "execution_count": null,
      "outputs": []
    },
    {
      "cell_type": "code",
      "source": [
        "! chmod +x text2mesh/demo/run_alien_cobble.sh\n",
        "! ./text2mesh/demo/run_alien_cobble.sh"
      ],
      "metadata": {
        "id": "9Qa8_fB6TopE"
      },
      "execution_count": null,
      "outputs": []
    },
    {
      "cell_type": "code",
      "source": [
        "!git clone https://github.com/openai/CLIP"
      ],
      "metadata": {
        "id": "l5sq5wZ8cv63"
      },
      "execution_count": null,
      "outputs": []
    },
    {
      "cell_type": "code",
      "source": [
        "!python text2mesh/main.py --run branch --obj_path data/source_meshes/alien.obj --output_dir results/demo/alien/cobblestone --prompt an image of an alien made of cobblestone --sigma 5.0  --clamp tanh --n_normaugs 4 --n_augs 1 --normmincrop 0.1 --normmaxcrop 0.1 --geoloss --colordepth 2 --normdepth 2 --frontview --frontview_std 4 --clipavg view --lr_decay 0.9 --clamp tanh --normclamp tanh  --maxcrop 1.0 --save_render --seed 41 --n_iter 1500  --learning_rate 0.0005 --normal_learning_rate 0.0005  --background 1 1 1 --frontview_center 1.96349 0.6283"
      ],
      "metadata": {
        "id": "v6ep7yuzcRDf"
      },
      "execution_count": null,
      "outputs": []
    }
  ]
}